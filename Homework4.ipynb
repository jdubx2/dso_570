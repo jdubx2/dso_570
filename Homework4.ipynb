{
 "cells": [
  {
   "cell_type": "markdown",
   "metadata": {},
   "source": [
    "# Homework 4 (Due on Blackboard before class on Tue. 2/6)\n",
    "\n",
    "**Name:** Jesse Weiss\n",
    "\n",
    "You must use Jupyter notebook to complete homework 2 and submit it as a .ipynb file on Blackboard. This is to have you practice writing notebooks using markdown and code. For a tutorial on markdown, see: https://github.com/adam-p/markdown-here/wiki/Markdown-Cheatsheet. If you use code to solve for the final answer, please give your answer as part of a print statement that explains what the number means. Example: `print('Probability that X=5 is', prob)`. See these tutorials for how to nicely format output: https://www.digitalocean.com/community/tutorials/how-to-use-string-formatters-in-python-3 and https://www.programiz.com/python-programming/methods/string/format."
   ]
  },
  {
   "cell_type": "code",
   "execution_count": 2,
   "metadata": {
    "collapsed": true
   },
   "outputs": [],
   "source": [
    "import math\n",
    "import numpy as np\n",
    "from scipy.stats import binom, uniform, norm\n",
    "import pandas as pd\n",
    "from collections import OrderedDict\n",
    "import itertools\n",
    "import matplotlib.pyplot as plt"
   ]
  },
  {
   "cell_type": "markdown",
   "metadata": {},
   "source": [
    "## Question 1\n",
    "(DMD Exercise 2.22) This question begins with the text \"A large retail company has stores at two locations in a city...\" To solve this question, you would have to use the formula in DMD Section 2.11.\n",
    "\n"
   ]
  },
  {
   "cell_type": "markdown",
   "metadata": {},
   "source": [
    "Q: Compute the mean, variance and standard deviation of the total (combined) umbrella sales revenue form the 2 stores"
   ]
  },
  {
   "cell_type": "code",
   "execution_count": 3,
   "metadata": {},
   "outputs": [
    {
     "name": "stdout",
     "output_type": "stream",
     "text": [
      "Combined mean revenue is 3081.400\n",
      "Combined revenue variance is 1266773.400\n",
      "Combined revenue standard deviation is 1125.510\n"
     ]
    }
   ],
   "source": [
    "mu_x, sd_x, price_x = 147.8, 51, 17\n",
    "mu_y, sd_y, price_y = 63.2, 37, 9\n",
    "corr_xy = .7\n",
    "\n",
    "cov_xy = corr_xy * sd_x * sd_y\n",
    "\n",
    "mean_revenue = mu_x * price_x + mu_y * price_y\n",
    "var_revenue = price_x**2 * sd_x**2 + price_y**2 *sd_y**2 + 2*price_x*price_y*cov_xy\n",
    "sd_revenue = math.sqrt(var_revenue)\n",
    "\n",
    "print('Combined mean revenue is {0:.3f}'.format(mean_revenue))\n",
    "print('Combined revenue variance is {0:.3f}'.format(var_revenue))\n",
    "print('Combined revenue standard deviation is {0:.3f}'.format(sd_revenue))"
   ]
  },
  {
   "cell_type": "markdown",
   "metadata": {},
   "source": [
    "## Question 2\n",
    "(DMD Exercise 2.25) This question begins with the text \"Suppose a fraction 5% of the microchips produced by a leading microchip manufacturer are defective.\"\n",
    "\n",
    "$P(Defective) = .05$<br/>\n",
    "$P(Accept|Defective) = .1$<br/>\n",
    "$P(Accept|Not Defective) =1$<br/>"
   ]
  },
  {
   "cell_type": "code",
   "execution_count": 13,
   "metadata": {},
   "outputs": [
    {
     "data": {
      "text/html": [
       "<div>\n",
       "<style>\n",
       "    .dataframe thead tr:only-child th {\n",
       "        text-align: right;\n",
       "    }\n",
       "\n",
       "    .dataframe thead th {\n",
       "        text-align: left;\n",
       "    }\n",
       "\n",
       "    .dataframe tbody tr th {\n",
       "        vertical-align: top;\n",
       "    }\n",
       "</style>\n",
       "<table border=\"1\" class=\"dataframe\">\n",
       "  <thead>\n",
       "    <tr style=\"text-align: right;\">\n",
       "      <th></th>\n",
       "      <th>defective</th>\n",
       "      <th>not_defective</th>\n",
       "      <th>p_inpect</th>\n",
       "    </tr>\n",
       "    <tr>\n",
       "      <th></th>\n",
       "      <th></th>\n",
       "      <th></th>\n",
       "      <th></th>\n",
       "    </tr>\n",
       "  </thead>\n",
       "  <tbody>\n",
       "    <tr>\n",
       "      <th>accept</th>\n",
       "      <td>0.005</td>\n",
       "      <td>0.95</td>\n",
       "      <td>0.955</td>\n",
       "    </tr>\n",
       "    <tr>\n",
       "      <th>reject</th>\n",
       "      <td>0.045</td>\n",
       "      <td>0.00</td>\n",
       "      <td>0.045</td>\n",
       "    </tr>\n",
       "    <tr>\n",
       "      <th>p_defect</th>\n",
       "      <td>0.050</td>\n",
       "      <td>0.95</td>\n",
       "      <td>1.000</td>\n",
       "    </tr>\n",
       "  </tbody>\n",
       "</table>\n",
       "</div>"
      ],
      "text/plain": [
       "          defective  not_defective  p_inpect\n",
       "                                            \n",
       "accept        0.005           0.95     0.955\n",
       "reject        0.045           0.00     0.045\n",
       "p_defect      0.050           0.95     1.000"
      ]
     },
     "execution_count": 13,
     "metadata": {},
     "output_type": "execute_result"
    }
   ],
   "source": [
    "prob_table = {'': ['accept','reject','p_defect'],\n",
    "             'defective': [.05 * .1, .05 * .9, .05],\n",
    "             'not_defective': [.95 , 0, .95],\n",
    "             'p_inpect': [.05*.1 + .95, .05*.9, 1]}\n",
    "\n",
    "pd.DataFrame(OrderedDict(prob_table)).set_index('')"
   ]
  },
  {
   "cell_type": "code",
   "execution_count": 4,
   "metadata": {
    "collapsed": true
   },
   "outputs": [],
   "source": [
    "q1 = .95**10\n",
    "q2 = .955\n",
    "q3 = .955**9 * .045\n",
    "q4 = .95/.955\n",
    "q5 = (.95/.955)**10"
   ]
  },
  {
   "cell_type": "markdown",
   "metadata": {},
   "source": [
    "<ol>\n",
    "<li>What is the prob that all 10 chips are not defective</l1>\n",
    "<li>What is the prob that the inspector accepts a particular chip</li>\n",
    "<li>What is the prob that the inspector accepts 9/10 chips</li>\n",
    "<li>Given a chip is accepted, what is the prob it has no defect</li>\n",
    "<li>Given all 10 are accepted, what is the prob that all have no defects</li>\n",
    "</ol>"
   ]
  },
  {
   "cell_type": "code",
   "execution_count": 5,
   "metadata": {},
   "outputs": [
    {
     "name": "stdout",
     "output_type": "stream",
     "text": [
      "1. 0.599 \n",
      "2. 0.955 \n",
      "3. 0.030 \n",
      "4. 0.995 \n",
      "5. 0.949\n"
     ]
    }
   ],
   "source": [
    "print('1. {0:.3f} \\n2. {1:.3f} \\n3. {2:.3f} \\n4. {3:.3f} \\n5. {4:.3f}'.format(q1,q2,q3,q4,q5))"
   ]
  },
  {
   "cell_type": "markdown",
   "metadata": {},
   "source": [
    "## Question 3\n",
    "(DMD Exercise 2.27) This question begins with the text \"In this exercise we examine the effects of overbooking in the airline industry.\"\n",
    "\n",
    "$P(No Show) = .2$"
   ]
  },
  {
   "cell_type": "code",
   "execution_count": 34,
   "metadata": {},
   "outputs": [
    {
     "name": "stdout",
     "output_type": "stream",
     "text": [
      "1. 0.012 \n",
      "2. 0.236 \n",
      "3. 10199.223 \n",
      "4. 9600.000\n"
     ]
    }
   ],
   "source": [
    "dist = binom(n=11, p = .8)\n",
    "\n",
    "q1 = dist.cdf(5)\n",
    "q2 = dist.pmf(10)\n",
    "\n",
    "# 12,000 for 10 passengers (out of 11) means they issue refunds??\n",
    "q3_vals = []\n",
    "for num_pas in range(12):\n",
    "    prob = dist.pmf(num_pas)\n",
    "    if num_pas != 11:\n",
    "        q3_vals.append(prob * num_pas * 1200)\n",
    "    else:\n",
    "        q3_vals.append(prob * (10 * 1200 - 3000))\n",
    "q3 = sum(q3_vals)\n",
    "\n",
    "dist2 = binom(10,.8)\n",
    "\n",
    "q4_vals = []\n",
    "for num_pas in range(11):\n",
    "    prob = dist2.pmf(num_pas)\n",
    "    q4_vals.append(prob * num_pas * 1200)\n",
    "q4 = sum(q4_vals)\n",
    "\n",
    "print('1. {0:.3f} \\n2. {1:.3f} \\n3. {2:.3f} \\n4. {3:.3f}'.format(q1,q2,q3,q4))"
   ]
  },
  {
   "cell_type": "markdown",
   "metadata": {},
   "source": [
    "<ol><li value = '5'> Yes it does. Depending on the probability that a given first class passenger is travelling with a companion (or companions), one catalyst for a cancellation or missed flight could ultimately affect multiple passengers.</li></ol>"
   ]
  },
  {
   "cell_type": "markdown",
   "metadata": {},
   "source": [
    "## Question 4 \n",
    "This question asks you to illustrate the Central Limit Theorem using Python plots.\n",
    "\n",
    "a) (Coding DMD Example 3.11 in Section 3.7) Create python code that plots the 3 plots in Figure 3.14.\n",
    "\n",
    "b) (Coding DMD Example 3.12 in Section 3.7) Create python code that plots the 4 plots in Figure 3.15."
   ]
  },
  {
   "cell_type": "code",
   "execution_count": 297,
   "metadata": {},
   "outputs": [
    {
     "data": {
      "image/png": "[encoded data removed]",
      "text/plain": [
       "<matplotlib.figure.Figure at 0x179bce19630>"
      ]
     },
     "metadata": {},
     "output_type": "display_data"
    }
   ],
   "source": [
    "plt.bar(range(1,7),[1/6]*6)\n",
    "plt.xlim(0,19)\n",
    "plt.ylim(0,.25)\n",
    "plt.title('n = 1')\n",
    "plt.xticks(range(1,18,2))\n",
    "plt.show()"
   ]
  },
  {
   "cell_type": "code",
   "execution_count": 287,
   "metadata": {
    "collapsed": true
   },
   "outputs": [],
   "source": [
    "def roll(n):\n",
    "    die = range(1,7)\n",
    "    if n == 2:\n",
    "        roll = pd.DataFrame({'total' :[sum(x) for x in itertools.product(die,die)]})\n",
    "    elif n == 3:\n",
    "        roll = pd.DataFrame({'total' :[sum(x) for x in itertools.product(die,die,die)]})\n",
    "    else:\n",
    "        return('NA')\n",
    "\n",
    "    roll = roll.groupby('total').agg({'total': 'count'})\n",
    "    x = list(roll.index)\n",
    "    y = [x/sum(list(roll['total'])) for x in list(roll['total'])]\n",
    "    return(x,y)"
   ]
  },
  {
   "cell_type": "code",
   "execution_count": 298,
   "metadata": {},
   "outputs": [
    {
     "data": {
      "image/png": "[encoded data removed]",
      "text/plain": [
       "<matplotlib.figure.Figure at 0x179bcfc9c18>"
      ]
     },
     "metadata": {},
     "output_type": "display_data"
    }
   ],
   "source": [
    "plt.bar(roll(2)[0],roll(2)[1])\n",
    "plt.plot(roll(2)[0],roll(2)[1])\n",
    "plt.xlim(0,19)\n",
    "plt.ylim(0,.25)\n",
    "plt.title('n = 2')\n",
    "plt.xticks(range(1,18,2))\n",
    "plt.show()"
   ]
  },
  {
   "cell_type": "code",
   "execution_count": 299,
   "metadata": {},
   "outputs": [
    {
     "data": {
      "image/png": "[encoded data removed]",
      "text/plain": [
       "<matplotlib.figure.Figure at 0x179bd0cee80>"
      ]
     },
     "metadata": {},
     "output_type": "display_data"
    }
   ],
   "source": [
    "plt.bar(roll(3)[0],roll(3)[1])\n",
    "plt.plot(roll(3)[0],roll(3)[1])\n",
    "plt.xlim(0,19)\n",
    "plt.ylim(0,.25)\n",
    "plt.title('n = 3')\n",
    "plt.xticks(range(1,18,2))\n",
    "plt.show()"
   ]
  },
  {
   "cell_type": "code",
   "execution_count": 347,
   "metadata": {
    "collapsed": true
   },
   "outputs": [],
   "source": [
    "def fig315(n):\n",
    "    dist = binom(n,.8)\n",
    "    dist_x = []\n",
    "    dist_y = []\n",
    "    for x in range(0,n+1):\n",
    "        dist_x.append(x)\n",
    "        dist_y.append(dist.pmf(x))\n",
    "        \n",
    "    plt.bar(dist_x, dist_y)\n",
    "    plt.plot(dist_x, dist_y)\n",
    "    plt.xlim(0,25)\n",
    "    plt.ylim(0,.35)\n",
    "    plt.title('n = {0}'.format(n))\n",
    "    plt.xticks(range(0,26,5))\n",
    "    \n",
    "    return(plt.show())"
   ]
  },
  {
   "cell_type": "code",
   "execution_count": 359,
   "metadata": {},
   "outputs": [
    {
     "data": {
      "image/png": "[encoded data removed]",
      "text/plain": [
       "<matplotlib.figure.Figure at 0x179bb868048>"
      ]
     },
     "metadata": {},
     "output_type": "display_data"
    },
    {
     "data": {
      "image/png": "[encoded data removed]",
      "text/plain": [
       "<matplotlib.figure.Figure at 0x179bca46ba8>"
      ]
     },
     "metadata": {},
     "output_type": "display_data"
    },
    {
     "data": {
      "image/png": "[encoded data removed]",
      "text/plain": [
       "<matplotlib.figure.Figure at 0x179bcd54828>"
      ]
     },
     "metadata": {},
     "output_type": "display_data"
    },
    {
     "data": {
      "image/png": "[encoded data removed]",
      "text/plain": [
       "<matplotlib.figure.Figure at 0x179bb77b358>"
      ]
     },
     "metadata": {},
     "output_type": "display_data"
    },
    {
     "data": {
      "text/plain": [
       "(None, None, None, None)"
      ]
     },
     "execution_count": 359,
     "metadata": {},
     "output_type": "execute_result"
    }
   ],
   "source": [
    "fig315(10), fig315(15),fig315(20), fig315(25)"
   ]
  },
  {
   "cell_type": "markdown",
   "metadata": {},
   "source": [
    "## Question 5\n",
    "(DMD Exercise 3.2) This question begins with the text \"The men's 100 meter sprint at the 1996 Olympic Games...\""
   ]
  },
  {
   "cell_type": "code",
   "execution_count": 7,
   "metadata": {
    "collapsed": true
   },
   "outputs": [],
   "source": [
    "dist = uniform(9.75, 9.95 - 9.75)"
   ]
  },
  {
   "cell_type": "code",
   "execution_count": 10,
   "metadata": {},
   "outputs": [
    {
     "name": "stdout",
     "output_type": "stream",
     "text": [
      "1. 0.550 prob that Donavan beats 9.86 secs \n",
      "2. 0.909 prob that the winning time beats 9.86 secs\n"
     ]
    }
   ],
   "source": [
    "q1 = dist.cdf(9.86)\n",
    "q2 = 1-(1 - dist.cdf(9.86))**3\n",
    "print('1. {0:.3f} prob that Donavan beats 9.86 secs \\n2. {1:.3f} prob that the winning time beats 9.86 secs'.format(q1,q2))"
   ]
  },
  {
   "cell_type": "markdown",
   "metadata": {},
   "source": [
    "<ol><li value = '3'> Runners tend to rise to the competition so it's likely that a relatively fast or slow time from one runner could impact the performance of the other two.</li></ol>"
   ]
  },
  {
   "cell_type": "markdown",
   "metadata": {},
   "source": [
    "## Question 6\n",
    "(DMD Exercise 3.6) This question begins with the text \"Winter lasts from December 21 through March 21...\""
   ]
  },
  {
   "cell_type": "code",
   "execution_count": 389,
   "metadata": {
    "collapsed": true
   },
   "outputs": [],
   "source": [
    "dist_bos = norm(32.5,1.59)\n",
    "dist_ny = norm(35.4, 2.05)\n",
    "\n",
    "q1 = 1 - dist_bos.cdf(32)\n",
    "q2_dist = norm(32.5 - 35.4, math.sqrt(1.59**2 + 2.05**2))\n",
    "q2 = 1 - q2_dist.cdf(0)"
   ]
  },
  {
   "cell_type": "code",
   "execution_count": 396,
   "metadata": {},
   "outputs": [
    {
     "name": "stdout",
     "output_type": "stream",
     "text": [
      "1. 0.623 prob that the avg winter temp in Boston is > 32 \n",
      "2. 0.132 prob that the avg winter temp in Boston is > than NY\n"
     ]
    }
   ],
   "source": [
    "print('1. {0:.3f} prob that the avg winter temp in Boston is > 32 \\n2. {1:.3f} prob that the avg winter temp in Boston is > than NY'.format(q1,q2))"
   ]
  },
  {
   "cell_type": "markdown",
   "metadata": {},
   "source": [
    "<ol><li value = '3'>These two cities are very close to one another so the independence assumption is probably not all that reasonable. A very cold or very hot summer would affect both cities in similar ways.</li></ol>"
   ]
  },
  {
   "cell_type": "markdown",
   "metadata": {},
   "source": [
    "## Question 7\n",
    "(DMD Exercise 3.12) This question begins with the text \"A portfolio manager believes that tomorrow's foreign exchange rate of German marks per U.S. dollar will be Normally distributed...\""
   ]
  },
  {
   "cell_type": "code",
   "execution_count": 405,
   "metadata": {},
   "outputs": [
    {
     "name": "stdout",
     "output_type": "stream",
     "text": [
      "1. 0.266 probability that rate will be above 2.08\n",
      "2. 0.009 probability that rate will be below 1.85\n",
      "3. 0.675 probability that rate will be between 2.00 and 2.20\n"
     ]
    }
   ],
   "source": [
    "dist = norm(2.03, .08)\n",
    "\n",
    "q1 = 1 - dist.cdf(2.08)\n",
    "q2 = dist.cdf(1.84)\n",
    "q3 = dist.cdf(2.2) - dist.cdf(1.99)\n",
    "\n",
    "print('1. {0:.3f} probability that rate will be above 2.08\\n2. {1:.3f} probability that rate will be below 1.85\\n3. {2:.3f} probability that rate will be between 2.00 and 2.20'.format(q1,q2,q3))"
   ]
  },
  {
   "cell_type": "markdown",
   "metadata": {},
   "source": [
    "## Question 8\n",
    "(DMD Exercise 3.18) This question begins with the text \"In 1996, after an extensive investigation by the Consumer Product Safety Commission...\""
   ]
  },
  {
   "cell_type": "markdown",
   "metadata": {},
   "source": [
    "1. The cars in the sample must be randomly selected and independant of one another to be modeled as a binomial random variable."
   ]
  },
  {
   "cell_type": "code",
   "execution_count": 406,
   "metadata": {},
   "outputs": [
    {
     "name": "stdout",
     "output_type": "stream",
     "text": [
      "6.06086539957e-298\n"
     ]
    }
   ],
   "source": [
    "dist = binom(2000, .3)\n",
    "q2 = dist.cdf(5)\n",
    "print(q2)"
   ]
  },
  {
   "cell_type": "markdown",
   "metadata": {},
   "source": [
    "<Ol><li value = '2'>Approximately 0 chance that 5 or fewer cars would have an electrical wiring problem</li>\n",
    "<li>It is extremely unlikely that 30% of the cars have a problem with their electrical wiring.</li></ol>"
   ]
  },
  {
   "cell_type": "markdown",
   "metadata": {},
   "source": [
    "## Question 9\n",
    "Choose one continuous probability distribution and one discrete probability distribution in the `scipy.stats` library that we didn't discuss in class. See the scipy.stats documentation: https://docs.scipy.org/doc/scipy/reference/stats.html\n",
    "\n",
    "For each of the two distributions, read the documentation above and Wikipedia the distribution. Then describe one example in your life or in your future career in which this distribution may be used to model an uncertainty. (If you can't find an example, choose another distribution.) Illustrate each application using reasonable parameters you choose, and plot the PMF or PDF of the distribution as well as a histogram of 100 samples. Write one sentence to summarize an insight from looking at the histogram or the PMF/PDF that may be helpful for the application you chose."
   ]
  },
  {
   "cell_type": "markdown",
   "metadata": {},
   "source": [
    "1. The beta distribution can be used to model a variety of different looking distributions between the fixed interval [0,1]. One potential application for the beta distribution could be modeling the expected percentage in salary increase I expect to recieve over a certain period of time (say 2 or 3 years)."
   ]
  },
  {
   "cell_type": "code",
   "execution_count": 407,
   "metadata": {
    "collapsed": true
   },
   "outputs": [],
   "source": [
    "from scipy.stats import beta"
   ]
  },
  {
   "cell_type": "code",
   "execution_count": 424,
   "metadata": {},
   "outputs": [
    {
     "data": {
      "image/png": "[encoded data removed]",
      "text/plain": [
       "<matplotlib.figure.Figure at 0x179bcc73588>"
      ]
     },
     "metadata": {},
     "output_type": "display_data"
    },
    {
     "data": {
      "image/png": "[encoded data removed]",
      "text/plain": [
       "<matplotlib.figure.Figure at 0x179bcd21da0>"
      ]
     },
     "metadata": {},
     "output_type": "display_data"
    }
   ],
   "source": [
    "dist1 = beta(2,15)\n",
    "x = np.linspace(0,1,1000)\n",
    "y = []\n",
    "for i in x:\n",
    "    y.append(dist1.pdf(i))\n",
    "plt.plot(x,y)\n",
    "plt.show()\n",
    "plt.hist(dist1.rvs(100))\n",
    "plt.show()"
   ]
  },
  {
   "cell_type": "markdown",
   "metadata": {},
   "source": [
    "It's likely that my salary will increase by some low, non-zero percentage over a 2 to 3 year period."
   ]
  },
  {
   "cell_type": "markdown",
   "metadata": {},
   "source": [
    "<ol><li value = '2'>The triangle distribution can be used to model a population for which there is limited data but the min, max, and most likely outcomes are known. I could use this distribution to run simulations for the number of customers who will complete their checkout in an online shopping scenario for a new website."
   ]
  },
  {
   "cell_type": "code",
   "execution_count": 425,
   "metadata": {
    "collapsed": true
   },
   "outputs": [],
   "source": [
    "from scipy.stats import triang"
   ]
  },
  {
   "cell_type": "code",
   "execution_count": 437,
   "metadata": {},
   "outputs": [
    {
     "data": {
      "image/png": "[encoded data removed]",
      "text/plain": [
       "<matplotlib.figure.Figure at 0x179bd0b6c50>"
      ]
     },
     "metadata": {},
     "output_type": "display_data"
    },
    {
     "data": {
      "image/png": "[encoded data removed]",
      "text/plain": [
       "<matplotlib.figure.Figure at 0x179bb2b98d0>"
      ]
     },
     "metadata": {},
     "output_type": "display_data"
    }
   ],
   "source": [
    "dist2 = triang(.1, 0, .3)\n",
    "x = np.linspace(0,1,1000)\n",
    "y = []\n",
    "for i in x:\n",
    "    y.append(dist2.pdf(i))\n",
    "plt.plot(x,y)\n",
    "plt.show()\n",
    "plt.hist(dist2.rvs(100))\n",
    "plt.show()"
   ]
  },
  {
   "cell_type": "markdown",
   "metadata": {},
   "source": [
    "In this example I know that about 10% of customers tend to complete their transactions with a gradual decline in liklihood until a maximum of 30%"
   ]
  }
 ],
 "metadata": {
  "kernelspec": {
   "display_name": "Python 3",
   "language": "python",
   "name": "python3"
  },
  "language_info": {
   "codemirror_mode": {
    "name": "ipython",
    "version": 3
   },
   "file_extension": ".py",
   "mimetype": "text/x-python",
   "name": "python",
   "nbconvert_exporter": "python",
   "pygments_lexer": "ipython3",
   "version": "3.6.1"
  }
 },
 "nbformat": 4,
 "nbformat_minor": 2
}
