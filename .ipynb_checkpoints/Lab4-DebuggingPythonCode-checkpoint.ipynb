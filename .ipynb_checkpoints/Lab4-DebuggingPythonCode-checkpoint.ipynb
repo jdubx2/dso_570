{
 "cells": [
  {
   "cell_type": "markdown",
   "metadata": {},
   "source": [
    "# Lab 4 Worksheet\n",
    "\n",
    "**Name:**\n",
    "\n",
    "**Learning Objectives:**\n",
    "\n",
    "- Identify types of objects\n",
    "- Use Python help to learn to use unfamiliar functions\n",
    "- Use Python debugger"
   ]
  },
  {
   "cell_type": "markdown",
   "metadata": {},
   "source": [
    "## Objects and Types\n",
    "\n",
    "### Exercise 1\n",
    "\n",
    "Use the `type` command to find the type of each of the following after importing `numpy` as `np`.\n",
    "```python\n",
    "np\n",
    "np.sum\n",
    "np.array\n",
    "np.array([3,4,5])\n",
    "np.array([3,4,5]).sum\n",
    "np.array([3,4,5]).sum()\n",
    "type(np.array([3,4,5]).sum())\n",
    "```\n"
   ]
  },
  {
   "cell_type": "code",
   "execution_count": 2,
   "metadata": {},
   "outputs": [
    {
     "data": {
      "text/plain": [
       "numpy.int32"
      ]
     },
     "execution_count": 2,
     "metadata": {},
     "output_type": "execute_result"
    }
   ],
   "source": [
    "import numpy as np\n",
    "type(np)\n",
    "type(np.sum\n",
    "np.array\n",
    "np.array([3,4,5])\n",
    "np.array([3,4,5]).sum\n",
    "np.array([3,4,5]).sum()\n",
    "type(np.array([3,4,5]).sum())"
   ]
  },
  {
   "cell_type": "markdown",
   "metadata": {},
   "source": [
    "### Exercise 2\n",
    "\n",
    "Consider the code\n",
    "```python\n",
    "def f(x):\n",
    "    return 3*x\n",
    "d={3:[f,[4,f],'hi'],4:{3,2}}\n",
    "```\n",
    "\n",
    "By inspection only, without using the `type` command, identify the type of each of the following\n",
    "```python\n",
    "d\n",
    "d[3]\n",
    "d[3][0]\n",
    "d[3][0](3)\n",
    "d[3][-1]\n",
    "d[4]\n",
    "```\n",
    "Check your answer using the `type` command.\n"
   ]
  },
  {
   "cell_type": "code",
   "execution_count": null,
   "metadata": {
    "collapsed": true
   },
   "outputs": [],
   "source": []
  },
  {
   "cell_type": "code",
   "execution_count": null,
   "metadata": {
    "collapsed": true
   },
   "outputs": [],
   "source": []
  },
  {
   "cell_type": "markdown",
   "metadata": {},
   "source": [
    "## Reading Python Help to Understand Unfamiliar Code\n",
    "\n",
    "### Exercise 3\n",
    "Without running the code.\n",
    "\n",
    "- Identify all the objects in the following segment of code \n",
    "- Use Python help to deduce the type of each object \n",
    "- Use Python help to predict the output\n",
    "\n",
    "```python\n",
    "import pandas as pd\n",
    "import matplotlib.pyplot as plt\n",
    "\n",
    "data=[['JKP 102',20153,'M',0.8],['JKP 102',20153,'T',0.7],['JKP 104',20153,'M',0.6]]\n",
    "df=pd.DataFrame(data,columns=['Room','Term','Day','Utilization'])\n",
    "\n",
    "(df.query(\"Term==20153 & Day=='M'\")\n",
    "         .sort_values(['Room'])\n",
    "         .plot(x='Room',y='Utilization',by='Day',kind='bar',title='Plot',figsize=(8,4),ylim=(0,1),legend=False)\n",
    ")\n",
    "plt.show()\n",
    "```\n",
    "\n",
    "After you are done, run the code to verify your answers.\n"
   ]
  },
  {
   "cell_type": "code",
   "execution_count": null,
   "metadata": {
    "collapsed": true
   },
   "outputs": [],
   "source": []
  },
  {
   "cell_type": "markdown",
   "metadata": {},
   "source": [
    "## Using the Python Debugger\n"
   ]
  },
  {
   "cell_type": "code",
   "execution_count": null,
   "metadata": {
    "collapsed": true
   },
   "outputs": [],
   "source": [
    "# Code demonstration\n",
    "\n"
   ]
  },
  {
   "cell_type": "markdown",
   "metadata": {},
   "source": [
    "### Exercise 3\n",
    "Use `pdb.set_trace()` to identify the bug in the following code from Lab 3."
   ]
  },
  {
   "cell_type": "code",
   "execution_count": 18,
   "metadata": {},
   "outputs": [
    {
     "data": {
      "text/plain": [
       "nan"
      ]
     },
     "execution_count": 18,
     "metadata": {},
     "output_type": "execute_result"
    }
   ],
   "source": [
    "def convert(inputTime):\n",
    "    try:\n",
    "        hh,mm,ss=str(InputTime).split(':')\n",
    "        ans=int(hh)+int(mm)/60+int(ss)/3600\n",
    "    except:\n",
    "        ans=np.nan\n",
    "    return ans\n",
    "convert('18:00:00')"
   ]
  },
  {
   "cell_type": "markdown",
   "metadata": {},
   "source": [
    "**Bug:**\n"
   ]
  },
  {
   "cell_type": "markdown",
   "metadata": {},
   "source": [
    "### Exercise 4\n",
    "Use `%pdb on` to turn on automatic debugging upon error and figure out what's wrong in the following code from Lab 3."
   ]
  },
  {
   "cell_type": "code",
   "execution_count": 17,
   "metadata": {},
   "outputs": [
    {
     "ename": "TypeError",
     "evalue": "argument of type 'float' is not iterable",
     "output_type": "error",
     "traceback": [
      "\u001b[1;31m---------------------------------------------------------------------------\u001b[0m",
      "\u001b[1;31mTypeError\u001b[0m                                 Traceback (most recent call last)",
      "\u001b[1;32m<ipython-input-17-6d01e66d275a>\u001b[0m in \u001b[0;36m<module>\u001b[1;34m()\u001b[0m\n\u001b[0;32m     24\u001b[0m     \u001b[1;31m# Skip rows in which beg and end are np.nan (not a number), and in which the room is not in the capacity file\u001b[0m\u001b[1;33m\u001b[0m\u001b[1;33m\u001b[0m\u001b[0m\n\u001b[0;32m     25\u001b[0m     \u001b[1;32mfor\u001b[0m \u001b[0mday\u001b[0m \u001b[1;32min\u001b[0m \u001b[1;34m'MTWHF'\u001b[0m\u001b[1;33m:\u001b[0m   \u001b[1;31m# Iterate through the sequence ['M','T','W','H','F']\u001b[0m\u001b[1;33m\u001b[0m\u001b[0m\n\u001b[1;32m---> 26\u001b[1;33m         \u001b[1;32mif\u001b[0m \u001b[0mday\u001b[0m \u001b[1;32min\u001b[0m \u001b[0mdays\u001b[0m\u001b[1;33m:\u001b[0m\u001b[1;33m\u001b[0m\u001b[0m\n\u001b[0m\u001b[0;32m     27\u001b[0m             \u001b[0mkey\u001b[0m\u001b[1;33m=\u001b[0m\u001b[1;33m(\u001b[0m\u001b[0mterm\u001b[0m\u001b[1;33m,\u001b[0m\u001b[0mroom\u001b[0m\u001b[1;33m,\u001b[0m\u001b[0mday\u001b[0m\u001b[1;33m)\u001b[0m  \u001b[1;31m# The key of the dictionary to set\u001b[0m\u001b[1;33m\u001b[0m\u001b[0m\n\u001b[0;32m     28\u001b[0m             \u001b[1;32mif\u001b[0m \u001b[0mkey\u001b[0m \u001b[1;32mnot\u001b[0m \u001b[1;32min\u001b[0m \u001b[0mans\u001b[0m\u001b[1;33m:\u001b[0m   \u001b[1;31m# if this key is not in the dictionary, add it, with the beg and end time of the current row\u001b[0m\u001b[1;33m\u001b[0m\u001b[0m\n",
      "\u001b[1;31mTypeError\u001b[0m: argument of type 'float' is not iterable"
     ]
    }
   ],
   "source": [
    "#Importing packages\n",
    "import pandas as pd\n",
    "import numpy as np\n",
    "\n",
    "#Reading excel files\n",
    "schedule=pd.read_excel('Marshall_Course_Enrollment_1516_1617.xlsx')\n",
    "cancelled=pd.read_excel('Cancelled_Courses_1516_1617.xlsx')\n",
    "master=schedule.append(cancelled)\n",
    "capacities=pd.read_excel('Marshall_Room_Capacity_Chart.xlsx')\n",
    "\n",
    "roomSet=set(capacities.Room)      # Create a set which contains the rooms in the capacities file.\n",
    "ans={}                   # Initialize a dictionary to store the result we want\n",
    "\n",
    "df=master \n",
    "master.head()           # Print the first few lines of the DataFrame master, which we loaded above. See index on the left, and each row\n",
    "\n",
    "# Iterate through the rows of the data frame above. The variable \"row\" will go through the rows of the dataframe. \"index\" will go through the indices (see left above)\n",
    "for index,row in df.iterrows():   \n",
    "    term=row['Term']       # Obtain the corresponding column of each row\n",
    "    room=row['First Room']\n",
    "    days=row['First Days'] \n",
    "    beg=convert(row['First Begin Time'])   # Convert the begin time strings into decimal numbers using challenge 1\n",
    "    end=convert(row['First End Time'])     # Convert the begin time strings into decimal numbers using challenge 1\n",
    "    # Skip rows in which beg and end are np.nan (not a number), and in which the room is not in the capacity file\n",
    "    for day in 'MTWHF':   # Iterate through the sequence ['M','T','W','H','F']\n",
    "        if day in days: \n",
    "            key=(term,room,day)  # The key of the dictionary to set\n",
    "            if key not in ans:   # if this key is not in the dictionary, add it, with the beg and end time of the current row\n",
    "                ans[key]=(beg,end)   \n",
    "            else:\n",
    "                oldBeg,oldEnd=ans[key]  # If the key is in the dictionary, update it to find the earliest beg time so far and latest end time\n",
    "                newBeg=min(beg,oldBeg)\n",
    "                newEnd=max(end,oldEnd)\n",
    "                ans[key]=(newBeg,newEnd)\n",
    "ans"
   ]
  },
  {
   "cell_type": "markdown",
   "metadata": {},
   "source": [
    "**Bug:**"
   ]
  }
 ],
 "metadata": {
  "kernelspec": {
   "display_name": "Python 3",
   "language": "python",
   "name": "python3"
  },
  "language_info": {
   "codemirror_mode": {
    "name": "ipython",
    "version": 3
   },
   "file_extension": ".py",
   "mimetype": "text/x-python",
   "name": "python",
   "nbconvert_exporter": "python",
   "pygments_lexer": "ipython3",
   "version": "3.6.1"
  }
 },
 "nbformat": 4,
 "nbformat_minor": 2
}
