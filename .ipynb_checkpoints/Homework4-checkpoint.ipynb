{
 "cells": [
  {
   "cell_type": "markdown",
   "metadata": {},
   "source": [
    "# Homework 4 (Due on Blackboard before class on Tue. 2/6)\n",
    "\n",
    "**Name:** Jesse Weiss\n",
    "\n",
    "You must use Jupyter notebook to complete homework 2 and submit it as a .ipynb file on Blackboard. This is to have you practice writing notebooks using markdown and code. For a tutorial on markdown, see: https://github.com/adam-p/markdown-here/wiki/Markdown-Cheatsheet. If you use code to solve for the final answer, please give your answer as part of a print statement that explains what the number means. Example: `print('Probability that X=5 is', prob)`. See these tutorials for how to nicely format output: https://www.digitalocean.com/community/tutorials/how-to-use-string-formatters-in-python-3 and https://www.programiz.com/python-programming/methods/string/format.\n"
   ]
  },
  {
   "cell_type": "markdown",
   "metadata": {},
   "source": [
    "## Question 1\n",
    "(DMD Exercise 2.22) This question begins with the text \"A large retail company has stores at two locations in a city...\" To solve this question, you would have to use the formula in DMD Section 2.11.\n",
    "\n"
   ]
  },
  {
   "cell_type": "markdown",
   "metadata": {},
   "source": [
    "Dept Store$(X)$: $\\mu = 147.8$ $\\sigma = 51$\n",
    "<br />\n",
    "Disc Store$(Y)$: $\\mu = 63.2$ $\\sigma = 37$\n",
    "<br />\n",
    "$COR(X,Y) = .7$"
   ]
  },
  {
   "cell_type": "code",
   "execution_count": null,
   "metadata": {
    "collapsed": true
   },
   "outputs": [],
   "source": [
    "mu_x, sd_x, price_x = 147.8, 51, xx\n",
    "mu_y, sd_y, price_y = 63.2, 37, xx\n",
    "corr_xy = .7"
   ]
  },
  {
   "cell_type": "markdown",
   "metadata": {},
   "source": [
    "## Question 2\n",
    "(DMD Exercise 2.25) This question begins with the text \"Suppose a fraction 5% of the microchips produced by a leading microchip manufacturer are defective.\""
   ]
  },
  {
   "cell_type": "markdown",
   "metadata": {},
   "source": [
    "## Question 3\n",
    "(DMD Exercise 2.27) This question begins with the text \"In this exercise we examine the effects of overbooking in the airline industry.\"\n"
   ]
  },
  {
   "cell_type": "markdown",
   "metadata": {},
   "source": [
    "## Question 4 \n",
    "This question asks you to illustrate the Central Limit Theorem using Python plots.\n",
    "\n",
    "a) (Coding DMD Example 3.11 in Section 3.7) Create python code that plots the 3 plots in Figure 3.14.\n",
    "\n",
    "b) (Coding DMD Example 3.12 in Section 3.7) Create python code that plots the 4 plots in Figure 3.15."
   ]
  },
  {
   "cell_type": "markdown",
   "metadata": {},
   "source": [
    "## Question 5\n",
    "(DMD Exercise 3.2) This question begins with the text \"The men's 100 meter sprint at the 1996 Olympic Games...\""
   ]
  },
  {
   "cell_type": "markdown",
   "metadata": {},
   "source": [
    "## Question 6\n",
    "(DMD Exercise 3.6) This question begins with the text \"Winter lasts from December 21 through March 21...\""
   ]
  },
  {
   "cell_type": "markdown",
   "metadata": {},
   "source": [
    "## Question 7\n",
    "(DMD Exercise 3.12) This question begins with the text \"A portfolio manager believes that tomorrow's foreign exchange rate of German marks per U.S. dollar will be Normally distributed...\""
   ]
  },
  {
   "cell_type": "markdown",
   "metadata": {},
   "source": [
    "## Question 8\n",
    "(DMD Exercise 3.18) This question begins with the text \"In 1996, after an extensive investigation by the Consumer Product Safety Commission...\""
   ]
  },
  {
   "cell_type": "markdown",
   "metadata": {},
   "source": [
    "## Question 9\n",
    "Choose one continuous probability distribution and one discrete probability distribution in the `scipy.stats` library that we didn't discuss in class. See the scipy.stats documentation: https://docs.scipy.org/doc/scipy/reference/stats.html\n",
    "\n",
    "For each of the two distributions, read the documentation above and Wikipedia the distribution. Then describe one example in your life or in your future career in which this distribution may be used to model an uncertainty. (If you can't find an example, choose another distribution.) Illustrate each application using reasonable parameters you choose, and plot the PMF or PDF of the distribution as well as a histogram of 100 samples. Write one sentence to summarize an insight from looking at the histogram or the PMF/PDF that may be helpful for the application you chose."
   ]
  }
 ],
 "metadata": {
  "kernelspec": {
   "display_name": "Python 3",
   "language": "python",
   "name": "python3"
  },
  "language_info": {
   "codemirror_mode": {
    "name": "ipython",
    "version": 3
   },
   "file_extension": ".py",
   "mimetype": "text/x-python",
   "name": "python",
   "nbconvert_exporter": "python",
   "pygments_lexer": "ipython3",
   "version": "3.6.1"
  }
 },
 "nbformat": 4,
 "nbformat_minor": 2
}
