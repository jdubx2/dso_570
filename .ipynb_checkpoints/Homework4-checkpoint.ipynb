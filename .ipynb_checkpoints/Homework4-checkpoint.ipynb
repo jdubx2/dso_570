{
 "cells": [
  {
   "cell_type": "markdown",
   "metadata": {},
   "source": [
    "# Homework 4 (Due on Blackboard before class on Tue. 2/6)\n",
    "\n",
    "**Name:** Jesse Weiss\n",
    "\n",
    "You must use Jupyter notebook to complete homework 2 and submit it as a .ipynb file on Blackboard. This is to have you practice writing notebooks using markdown and code. For a tutorial on markdown, see: https://github.com/adam-p/markdown-here/wiki/Markdown-Cheatsheet. If you use code to solve for the final answer, please give your answer as part of a print statement that explains what the number means. Example: `print('Probability that X=5 is', prob)`. See these tutorials for how to nicely format output: https://www.digitalocean.com/community/tutorials/how-to-use-string-formatters-in-python-3 and https://www.programiz.com/python-programming/methods/string/format."
   ]
  },
  {
   "cell_type": "code",
   "execution_count": 34,
   "metadata": {
    "collapsed": true
   },
   "outputs": [],
   "source": [
    "import math\n",
    "import numpy as np\n",
    "from scipy.stats import binom\n",
    "import pandas as pd\n",
    "from collections import OrderedDict\n",
    "import matplotlib.pyplot as plt"
   ]
  },
  {
   "cell_type": "markdown",
   "metadata": {},
   "source": [
    "## Question 1\n",
    "(DMD Exercise 2.22) This question begins with the text \"A large retail company has stores at two locations in a city...\" To solve this question, you would have to use the formula in DMD Section 2.11.\n",
    "\n"
   ]
  },
  {
   "cell_type": "markdown",
   "metadata": {},
   "source": [
    "Q: Compute the mean, variance and standard deviation of the total (combined) umbrella sales revenue form the 2 stores"
   ]
  },
  {
   "cell_type": "code",
   "execution_count": 9,
   "metadata": {},
   "outputs": [
    {
     "name": "stdout",
     "output_type": "stream",
     "text": [
      "Combined mean revenue is 2584.800\n",
      "Combined revenue variance is 1266773.400\n",
      "Combined revenue standard deviation is 1125.510\n"
     ]
    }
   ],
   "source": [
    "mu_x, sd_x, price_x = 147.8, 51, 17\n",
    "mu_y, sd_y, price_y = 63.2, 37, 9\n",
    "corr_xy = .7\n",
    "\n",
    "cov_xy = corr_xy * sd_x * sd_y\n",
    "\n",
    "mean_revenue = mu_x * price_x + mu_y + price_y\n",
    "var_revenue = price_x**2 * sd_x**2 + price_y**2 *sd_y**2 + 2*price_x*price_y*cov_xy\n",
    "sd_revenue = math.sqrt(var_revenue)\n",
    "\n",
    "print('Combined mean revenue is {0:.3f}'.format(mean_revenue))\n",
    "print('Combined revenue variance is {0:.3f}'.format(var_revenue))\n",
    "print('Combined revenue standard deviation is {0:.3f}'.format(sd_revenue))"
   ]
  },
  {
   "cell_type": "markdown",
   "metadata": {},
   "source": [
    "## Question 2\n",
    "(DMD Exercise 2.25) This question begins with the text \"Suppose a fraction 5% of the microchips produced by a leading microchip manufacturer are defective.\"\n",
    "\n",
    "$P(Defective) = .05$<br/>\n",
    "$P(Accept|Defective) = .1$<br/>\n",
    "$P(Accept|Not Defective) =1$<br/>\n",
    "\n",
    "<ol>\n",
    "<li>What is the prob that all 10 chips are not defective</l1>\n",
    "<li>What is the prob that the inspector accepts a particular chip</li>\n",
    "<li>What is the prob that the inspector accepts 9/10 chips</li>\n",
    "<li>Given a chip is accepted, what is the prob it has no defect</li>\n",
    "<li>Given all 10 are accepted, what is the prob that all have no defects</li>\n",
    "</ol>"
   ]
  },
  {
   "cell_type": "code",
   "execution_count": 13,
   "metadata": {},
   "outputs": [
    {
     "data": {
      "text/html": [
       "<div>\n",
       "<style>\n",
       "    .dataframe thead tr:only-child th {\n",
       "        text-align: right;\n",
       "    }\n",
       "\n",
       "    .dataframe thead th {\n",
       "        text-align: left;\n",
       "    }\n",
       "\n",
       "    .dataframe tbody tr th {\n",
       "        vertical-align: top;\n",
       "    }\n",
       "</style>\n",
       "<table border=\"1\" class=\"dataframe\">\n",
       "  <thead>\n",
       "    <tr style=\"text-align: right;\">\n",
       "      <th></th>\n",
       "      <th>defective</th>\n",
       "      <th>not_defective</th>\n",
       "      <th>p_inpect</th>\n",
       "    </tr>\n",
       "    <tr>\n",
       "      <th></th>\n",
       "      <th></th>\n",
       "      <th></th>\n",
       "      <th></th>\n",
       "    </tr>\n",
       "  </thead>\n",
       "  <tbody>\n",
       "    <tr>\n",
       "      <th>accept</th>\n",
       "      <td>0.005</td>\n",
       "      <td>0.95</td>\n",
       "      <td>0.955</td>\n",
       "    </tr>\n",
       "    <tr>\n",
       "      <th>reject</th>\n",
       "      <td>0.045</td>\n",
       "      <td>0.00</td>\n",
       "      <td>0.045</td>\n",
       "    </tr>\n",
       "    <tr>\n",
       "      <th>p_defect</th>\n",
       "      <td>0.050</td>\n",
       "      <td>0.95</td>\n",
       "      <td>1.000</td>\n",
       "    </tr>\n",
       "  </tbody>\n",
       "</table>\n",
       "</div>"
      ],
      "text/plain": [
       "          defective  not_defective  p_inpect\n",
       "                                            \n",
       "accept        0.005           0.95     0.955\n",
       "reject        0.045           0.00     0.045\n",
       "p_defect      0.050           0.95     1.000"
      ]
     },
     "execution_count": 13,
     "metadata": {},
     "output_type": "execute_result"
    }
   ],
   "source": [
    "prob_table = {'': ['accept','reject','p_defect'],\n",
    "             'defective': [.05 * .1, .05 * .9, .05],\n",
    "             'not_defective': [.95 , 0, .95],\n",
    "             'p_inpect': [.05*.1 + .95, .05*.9, 1]}\n",
    "\n",
    "pd.DataFrame(OrderedDict(prob_table)).set_index('')"
   ]
  },
  {
   "cell_type": "code",
   "execution_count": 21,
   "metadata": {},
   "outputs": [
    {
     "name": "stdout",
     "output_type": "stream",
     "text": [
      "1. 0.599 \n",
      "2. 0.955 \n",
      "3. 0.030 \n",
      "4. 0.995 \n",
      "5. 0.630\n"
     ]
    }
   ],
   "source": [
    "q1 = .95**10\n",
    "q2 = .955\n",
    "q3 = .955**9 * .045\n",
    "q4 = .95/.955\n",
    "q5 = (.95/.995)**10\n",
    "\n",
    "print('1. {0:.3f} \\n2. {1:.3f} \\n3. {2:.3f} \\n4. {3:.3f} \\n5. {4:.3f}'.format(q1,q2,q3,q4,q5))"
   ]
  },
  {
   "cell_type": "markdown",
   "metadata": {},
   "source": [
    "## Question 3\n",
    "(DMD Exercise 2.27) This question begins with the text \"In this exercise we examine the effects of overbooking in the airline industry.\"\n",
    "\n",
    "$P(No Show) = .2$"
   ]
  },
  {
   "cell_type": "code",
   "execution_count": 62,
   "metadata": {},
   "outputs": [],
   "source": [
    "dist = binom(n=11, p = .8)\n",
    "\n",
    "q1 = dist.cdf(5)\n",
    "q2 = dist.pmf(10)\n",
    "\n",
    "q3_vals = []\n",
    "for num_pas in range(12):\n",
    "    prob = dist.pmf(num_pas)\n",
    "    if num_pas != 11:\n",
    "        q3_vals.append(prob * num_pas * 1200)\n",
    "    else:\n",
    "        q3_vals.append(prob * 10 * 1200 - 3000)\n",
    "q3 = sum(q3_vals)"
   ]
  },
  {
   "cell_type": "code",
   "execution_count": 63,
   "metadata": {},
   "outputs": [
    {
     "data": {
      "text/plain": [
       "7456.9207848960086"
      ]
     },
     "execution_count": 63,
     "metadata": {},
     "output_type": "execute_result"
    }
   ],
   "source": [
    "q3"
   ]
  },
  {
   "cell_type": "code",
   "execution_count": 53,
   "metadata": {},
   "outputs": [
    {
     "data": {
      "image/png": "[encoded data removed]",
      "text/plain": [
       "<matplotlib.figure.Figure at 0xbd08198>"
      ]
     },
     "metadata": {},
     "output_type": "display_data"
    }
   ],
   "source": [
    "x = [1,2,3,4,5,6,7,8,9,10,11]\n",
    "y = []\n",
    "for i in x:\n",
    "    y.append(dist.cdf(i))\n",
    "    \n",
    "plt.plot(x,y)\n",
    "plt.show()"
   ]
  },
  {
   "cell_type": "markdown",
   "metadata": {},
   "source": [
    "## Question 4 \n",
    "This question asks you to illustrate the Central Limit Theorem using Python plots.\n",
    "\n",
    "a) (Coding DMD Example 3.11 in Section 3.7) Create python code that plots the 3 plots in Figure 3.14.\n",
    "\n",
    "b) (Coding DMD Example 3.12 in Section 3.7) Create python code that plots the 4 plots in Figure 3.15."
   ]
  },
  {
   "cell_type": "markdown",
   "metadata": {},
   "source": [
    "## Question 5\n",
    "(DMD Exercise 3.2) This question begins with the text \"The men's 100 meter sprint at the 1996 Olympic Games...\""
   ]
  },
  {
   "cell_type": "markdown",
   "metadata": {},
   "source": [
    "## Question 6\n",
    "(DMD Exercise 3.6) This question begins with the text \"Winter lasts from December 21 through March 21...\""
   ]
  },
  {
   "cell_type": "markdown",
   "metadata": {},
   "source": [
    "## Question 7\n",
    "(DMD Exercise 3.12) This question begins with the text \"A portfolio manager believes that tomorrow's foreign exchange rate of German marks per U.S. dollar will be Normally distributed...\""
   ]
  },
  {
   "cell_type": "markdown",
   "metadata": {},
   "source": [
    "## Question 8\n",
    "(DMD Exercise 3.18) This question begins with the text \"In 1996, after an extensive investigation by the Consumer Product Safety Commission...\""
   ]
  },
  {
   "cell_type": "markdown",
   "metadata": {},
   "source": [
    "## Question 9\n",
    "Choose one continuous probability distribution and one discrete probability distribution in the `scipy.stats` library that we didn't discuss in class. See the scipy.stats documentation: https://docs.scipy.org/doc/scipy/reference/stats.html\n",
    "\n",
    "For each of the two distributions, read the documentation above and Wikipedia the distribution. Then describe one example in your life or in your future career in which this distribution may be used to model an uncertainty. (If you can't find an example, choose another distribution.) Illustrate each application using reasonable parameters you choose, and plot the PMF or PDF of the distribution as well as a histogram of 100 samples. Write one sentence to summarize an insight from looking at the histogram or the PMF/PDF that may be helpful for the application you chose."
   ]
  }
 ],
 "metadata": {
  "kernelspec": {
   "display_name": "Python 3",
   "language": "python",
   "name": "python3"
  },
  "language_info": {
   "codemirror_mode": {
    "name": "ipython",
    "version": 3
   },
   "file_extension": ".py",
   "mimetype": "text/x-python",
   "name": "python",
   "nbconvert_exporter": "python",
   "pygments_lexer": "ipython3",
   "version": "3.6.1"
  }
 },
 "nbformat": 4,
 "nbformat_minor": 2
}
