{
 "cells": [
  {
   "cell_type": "code",
   "execution_count": 1,
   "metadata": {
    "collapsed": true
   },
   "outputs": [],
   "source": [
    "from scipy.stats import binom"
   ]
  },
  {
   "cell_type": "code",
   "execution_count": 13,
   "metadata": {},
   "outputs": [
    {
     "name": "stdout",
     "output_type": "stream",
     "text": [
      "chance x is at least 40 is, 0.001\n",
      "chance x is exactly 18 is 0.000152254981013\n"
     ]
    }
   ],
   "source": [
    "#binom distribution cumulative density & probability mass\n",
    "dist = binom(n=45, p = 2/3)\n",
    "print('chance x is at least 40 is {0:.3f}'.format(1-dist.cdf(39)))\n",
    "print('chance x is exactly 18 is', dist.pmf(18))"
   ]
  },
  {
   "cell_type": "code",
   "execution_count": 15,
   "metadata": {},
   "outputs": [
    {
     "name": "stdout",
     "output_type": "stream",
     "text": [
      "[32 29 29 26 35 32 32 27 28 27 31 31 29 34 32 31 29 25 31 29 32 30 38 27 33\n",
      " 32 30 30 38 38 29 27 24 31 31 31 25 25 28 32 29 36 32 27 32 28 26 29 32 29\n",
      " 27 34 33 26 27 32 32 27 27 31 26 33 26 32 32 31 33 31 23 26 31 29 33 26 35\n",
      " 30 29 27 30 33 31 27 26 33 33 26 29 34 24 32 28 28 33 31 30 33 28 29 22 28]\n"
     ]
    }
   ],
   "source": [
    "#random sample\n",
    "samples = dist.rvs(size=100)\n",
    "print(samples)"
   ]
  },
  {
   "cell_type": "code",
   "execution_count": 16,
   "metadata": {
    "collapsed": true
   },
   "outputs": [],
   "source": [
    "import matplotlib.pyplot as plt"
   ]
  },
  {
   "cell_type": "code",
   "execution_count": 18,
   "metadata": {},
   "outputs": [
    {
     "data": {
      "image/png": "[encoded data removed]",
      "text/plain": [
       "<matplotlib.figure.Figure at 0x22285ad0518>"
      ]
     },
     "metadata": {},
     "output_type": "display_data"
    }
   ],
   "source": [
    "plt.hist(samples, bins=range(46))\n",
    "plt.title('Histogram')\n",
    "plt.show()"
   ]
  },
  {
   "cell_type": "code",
   "execution_count": 19,
   "metadata": {},
   "outputs": [
    {
     "data": {
      "image/png": "[encoded data removed]",
      "text/plain": [
       "<matplotlib.figure.Figure at 0x22285ad01d0>"
      ]
     },
     "metadata": {},
     "output_type": "display_data"
    }
   ],
   "source": [
    "X = range(46)\n",
    "plt.plot(X, dist.pmf(X), 'r-.')\n",
    "plt.show()"
   ]
  },
  {
   "cell_type": "code",
   "execution_count": 22,
   "metadata": {},
   "outputs": [
    {
     "data": {
      "text/plain": [
       "range(0, 46)"
      ]
     },
     "execution_count": 22,
     "metadata": {},
     "output_type": "execute_result"
    }
   ],
   "source": []
  }
 ],
 "metadata": {
  "kernelspec": {
   "display_name": "Python 3",
   "language": "python",
   "name": "python3"
  },
  "language_info": {
   "codemirror_mode": {
    "name": "ipython",
    "version": 3
   },
   "file_extension": ".py",
   "mimetype": "text/x-python",
   "name": "python",
   "nbconvert_exporter": "python",
   "pygments_lexer": "ipython3",
   "version": "3.6.1"
  }
 },
 "nbformat": 4,
 "nbformat_minor": 2
}
