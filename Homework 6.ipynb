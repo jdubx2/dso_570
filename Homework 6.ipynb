{
 "cells": [
  {
   "cell_type": "markdown",
   "metadata": {},
   "source": [
    "# Homework 6 (Due Tue. 3/20 before class)\n",
    "\n",
    "**Name:**\n",
    "\n",
    "**Learning Objectives Assessed:**\n",
    "\n",
    "- Formulating linear programs (LP) to model an optimization problem. (Model)\n",
    "- Solving LPs of two variables manually by graphing. (Analyze)\n",
    "- Solving LPs using Gurobi in Python. (Code)\n",
    "- Interpreting shadow price information. (Analyze)\n",
    "- Communicate LP formulations using LaTex. (Communicate)\n",
    "\n",
    "**For this homework, you must add your response to this Jupyter notebook and submit it.**\n",
    "\n",
    "## Instructions for typesetting LP formulations in Markdown cells\n",
    "In questions 1,3,4,5, you are asked to \"formulate a LP.\" This means to define your decision variables, then write the objective function and constraints. An example of a LP formulation is given below (this is the LP from the class on Thursday 3/1).\n",
    "\n",
    "Let decision variables $X$ and $Y$ denote the amount of product X and product Y to use respective. The linear program is\n",
    "$$\\begin{aligned}\n",
    "\\text{maximize} && 20X+10Y \\\\\n",
    "\\text{subject to:} \\\\\n",
    "\\text{Material 1:} && 4X+Y & \\le 60 \\\\\n",
    "\\text{Material 2:} && 2Y & \\le 48 \\\\\n",
    "\\text{Labor:} && X+Y & \\le 30 \\\\\n",
    "\\text{Non-negativity} && X,Y & \\ge 0\n",
    "\\end{aligned}$$\n",
    "\n",
    "Notice that the variables $X$ and $Y$ are in a special font denoting mathematical variables. Moreover, notice that the linear program above is centered and aligned, both at the colons and at the signs ($\\le$ and $\\ge$). It is useful to learn to do such formating in Markdown in order to better communicate your LP formulations to others.\n",
    "\n",
    "Double click this Markdown cell to see the code that created the math. Then execute the cell again to render it."
   ]
  },
  {
   "cell_type": "markdown",
   "metadata": {},
   "source": [
    "As you can see, to render a mathematical expression nicely, we enclose it using dollar signs. So the expression X>0, becomes $X>0$. A single dollar sign is for mathematical expressions inline, and double dollar signs are for a standalone mathematical expressions in its own line (See code by double clicking this cell). $$X>=0$$\n",
    "\n",
    "To make the linear program aligned, we not only use the double dollar signs, but also use the `\\begin{aligned} \\end{aligned}` commands. (Double click the linear program above to see the code.) Within the alignment block:\n",
    "\n",
    "- `\\text{ }` is for displaying the enclosed string as plain text, without the mathematical rendering.\n",
    "- `&` is for alignment. The convention is right align before the first `&`, then left align between the first and second `&` of each line, then right align again between the second and third `&` and so on. Hence, to make it right aligned both before and after the colon, we use a double `&&` after the `\\text{}`. If this is confusing, you can simply copy this convention for this homework (`&&` after the explanation of constraint, and `&` before the sign). \n",
    "- `\\\\` is for creating a new line. Notice that we end the line early using `\\\\` for \"subject to\" and \"maximize\".\n",
    "- `\\le` (less than or equal to) is for $\\le$, and `\\ge` (greater than or equal to) is for $\\ge$. This looks better than $<=$ and $>=$.\n",
    "\n",
    "This notation is called LaTex, and is the standard for people in technical fields to display math. Make sure that you close any braces you begin and put the alignment characters `&` and newlines `\\\\` at the right places, or the math may not render. You can see another example in the prompt to Q2 (double click the prompt of Q2 to see the LaTex code)."
   ]
  },
  {
   "cell_type": "markdown",
   "metadata": {},
   "source": [
    "## Q1 (Solving a LP manually by graphing)\n",
    "\n",
    "Solve DMD Exercise 7.2. The question begins with \"The Magnetron Company manufactures and markets microwave ovens.\" For part a), you should type your formulation into a Markdown cell following the typesetting instructions above. For parts b) and c), you should plot by hand on a scrap piece of paper, and type the answer in a Markdown cell. **You do not have to submit your hand drawing**, but you need to learn to do this for a quiz or an exam. "
   ]
  },
  {
   "cell_type": "markdown",
   "metadata": {},
   "source": [
    "Let decision variables $F$ and $C$ denote the amount of full-size and compact microwave ovens to use respectively.<br/> \n",
    "The linear program is\n",
    "$$\\begin{aligned}\n",
    "\\text{Maximize:} && 120F+130C \\\\\n",
    "\\text{subject to:} \\\\\n",
    "\\text{Demand F:} && F & \\le 220 \\\\\n",
    "\\text{Demand C:} && C & \\le 180 \\\\\n",
    "\\text{General Assembly:} && 2F + C & \\le 500 \\\\\n",
    "\\text{Electronic Assembly:} && 2F + 3C & \\le 800 \\\\\n",
    "\\text{Non-negativity} && F,C & \\ge 0\n",
    "\\end{aligned}$$\n",
    "<br/>\n",
    "b) Optimal Solution: $F=175$ and $C=150$ where general assembly and electronic assembly labor hours serve as the binding constraints. <br/>Optimal Solution Objective value = $\\$40,500$\n",
    "<br/>\n",
    "c) With $10$ additional units of general assembly labor: $F=183$ and $C=144$ with an optimal objective value of $\\$40,680$\n",
    "<br /> Shadow price for 1 unit of GA labor is $\\$18$\n",
    "<br />\n",
    "<img src=\"hw6_q1.PNG\">"
   ]
  },
  {
   "cell_type": "markdown",
   "metadata": {},
   "source": [
    "## Q2 (Solving a LP using Gurobi)\n",
    "\n",
    "**a)** Solve the LP for the NBS supply problem (DMD section 7.1) using Gurobi. Print the optimal solution, as well as the shadow price of each constraint. For your convenience, the LP formulation is reproduced below. \n",
    "\n",
    "Let decision variables $A$, $B$, $C$, $D$, $E$, $F$, $G$, and $H$ correspond to the amount of coal to be contracted from Ashley, Bedford, Consol, Dunby, Earlam, Florence, Gaston and Hopt respectively (in mtons).\n",
    "\n",
    "$$\\begin{aligned}\n",
    " \\text{minimize} && 49.5A+50B+61C+63.5D+66.5E+71F+72.5G+80H \\\\\n",
    " \\text{subject to:} && \\\\\n",
    " \\text{Supply:} && A+B+C+D+E+F+G+H & = 1225 \\\\\n",
    " \\text{Union:} && A+B-C+D-E+F-G-H & \\ge 0 \\\\\n",
    " \\text{Truck:}&& B+D+E+F & \\le 720 \\\\\n",
    " \\text{Rail:}&& A+C+G+H & \\le 650 \\\\\n",
    " \\text{Volatility:} && -4A-3B-C+D+2E+3F+4G+6H & \\ge 0 \\\\\n",
    " \\text{Acap:}&& A &\\le 300 \\\\\n",
    "\\text{Bcap:}&& B &\\le 600 \\\\\n",
    "\\text{Ccap:}&& C &\\le 510 \\\\\n",
    "\\text{Dcap:}&& D &\\le 655 \\\\\n",
    "\\text{Ecap:}&& E &\\le 575 \\\\\n",
    "\\text{Fcap:}&& F &\\le 680 \\\\\n",
    "\\text{Gcap:}&& G &\\le 450 \\\\\n",
    "\\text{Hcap:}&& H &\\le 490 \\\\\n",
    "\\text{Non-negativity:} && A,B,C,D,E,F,G,H & \\ge 0\n",
    "\\end{aligned}$$\n"
   ]
  },
  {
   "cell_type": "code",
   "execution_count": 61,
   "metadata": {},
   "outputs": [
    {
     "name": "stdout",
     "output_type": "stream",
     "text": [
      "Optimal solution\n",
      "\tA=55.0\n",
      "\tB=600.0\n",
      "\tC=0.0\n",
      "\tD=20.0\n",
      "\tE=100.0\n",
      "\tF=0.0\n",
      "\tG=450.0\n",
      "\tH=0.0\n",
      "\n",
      "Shadow prices\n",
      "\tSupply constraint: 61.5\n",
      "\tUnion constraint: 0.0\n",
      "\tTruck constraint: -1.0\n",
      "\tRail constraint: 0.0\n",
      "\tVolatility constraint: 3.0\n",
      "\tAcap: 0.0\n",
      "\tBcap: -1.5\n",
      "\tCcap: 0.0\n",
      "\tDcap: 0.0\n",
      "\tEcap: 0.0\n",
      "\tFcap: 0.0\n",
      "\tGcap: -1.0\n",
      "\tHcap: 0.0\n"
     ]
    }
   ],
   "source": [
    "# Example output (using print statements after solving the model)"
   ]
  },
  {
   "cell_type": "markdown",
   "metadata": {},
   "source": [
    "**b)** For each of the constraints except for the volatility constraint, write 1-2 sentence describing what insights can be obtained from the shadow price. You may check your answers using DMD section 7.5.4, but please write the sentence in your own words. For the capacity constraints with zero shadow cost (Acap, Ccap, Dcap, Ecap, Fcap, Hcap), you only need to describe for one constraint, and say that the others are like it.\n",
    "\n",
    "Example sentence: The shadow price of the union constraint is zero, which means that the union is not a bottleneck in this scenario. (In other words, NBS Corporation would not be able to benefit from the union relaxing its requirement on coal contracts, by allowing for slightly more coal to be contracted from non-union suppliers than from union suppliers.)"
   ]
  },
  {
   "cell_type": "markdown",
   "metadata": {},
   "source": [
    "The shadow price of the supply contraint is 61.5 which means that for each addional unit of coal that must be purchased, the total cost will increase by 61.5 <br />\n",
    "The shadow price of the truck constraint is -1.0 which means that for each addiional unit of truck capcity, total cost will decrease by 1 <br />\n",
    "The shadow price of the bcap and gcap constraints are -1.5 and -1 respectively which means that increasing the capcity at mine b or mine g by 1 unit will lead to a reduction in cost of -1.5 and -1 respectively <br />\n",
    "The shadow price for all other constraints is 0 which means that these constraints are not the bottleneck in this scenario and the minimal cost would remain unchanged if an extra unit of any of them were added to the RHS of the formulated constraint."
   ]
  },
  {
   "cell_type": "markdown",
   "metadata": {},
   "source": [
    "## Q3 (Production Planning)\n",
    "\n",
    "Solve DMD Exercise 7.8. The question begins with \"Nature's best Frozen Foods company produces four different mixes of frozen ready-to-eat vegetables. \n",
    "\n",
    "For part a), you should formulate the linear program following the instructions at the top of this homework (define the decision variables then write the LP nicely in a Markdown cell using LaTex)."
   ]
  },
  {
   "cell_type": "markdown",
   "metadata": {},
   "source": [
    "Let decision variables $S, B, H, V$ denote the number of 10z bags of Stir Fry, Barbecue, Hearty Mushrooms and Veggie Crunch 10oz ready to eat mixes to produce respectively.<br/> \n",
    "$$\\begin{aligned}\n",
    "\\text{Maximize:} && .22S + .2B + .18H + .18V \\\\\n",
    "\\text{subject to:} \\\\\n",
    "\\text{Carrots:} && 2.5S + 2B + 2.5V & \\le 150000 \\\\\n",
    "\\text{Mushrooms:} && 3S + 4H & \\le 80000 \\\\\n",
    "\\text{Green peppers:} && 2.5S + 2B + 3H + 2.5V & \\le 135000 \\\\\n",
    "\\text{Broccoli:} && 2S + 3B + 3H + 2.5V & \\le 140000 \\\\\n",
    "\\text{Corn:} && 3B + 2.5V & \\le 150000 \\\\\n",
    "\\text{Non-negativity} && S,B,H,V & \\ge 0\n",
    "\\end{aligned}$$"
   ]
  },
  {
   "cell_type": "markdown",
   "metadata": {},
   "source": [
    "## Q4 (Formulating Constraints)\n",
    "\n",
    "Solve DMD Exercise 7.12. Before solving using Gurobi, you should formulate the linear program by defining the decision variables and write the objective and constraints nicely using LaTex.\n"
   ]
  },
  {
   "cell_type": "markdown",
   "metadata": {},
   "source": [
    "Let decision variables $A, B, C, D, E$ denote the proportion of the available \\$10k to be invested in each fund respectively.<br/> \n",
    "$$\\begin{aligned}\n",
    "\\text{Maximize:} && 10000A + 10000B + 10000C + 10000D + 10000E \\\\\n",
    "\\text{subject to:} \\\\\n",
    "\\text{Risk:} && A + 2B + 2C + 3D + 5E & \\le 2.5 \\\\\n",
    "\\text{Money Market:} && A + B & \\le .3 \\\\\n",
    "\\text{Aggressive Growth:} && 10000E & \\le 2000 \\\\\n",
    "\\text{Non-negativity} && A,B,C,D,E & \\ge 0\n",
    "\\end{aligned}$$"
   ]
  },
  {
   "cell_type": "markdown",
   "metadata": {},
   "source": [
    "## Q5 (Production and Transportation)\n",
    "\n",
    "Solve DMD Exercise 7.9. The question begins with \"Johnson Electric produces small electric motors for four appliance manufacturers in each of the three plants). \n",
    "\n",
    "### Additional instructions and hints\n",
    "When formulating the linear program in part a), **instead of manually defining each variable as in the hint in the book, you should practice using indexing notation**, which also saves you effort on manual input and makes your formulation easily generalizable to larger data sets. You should use the following notation in your formulation:\n",
    "\n",
    "- $I=\\{A,B,C\\}$ represents the set of plants;\n",
    "- $J=\\{O,T,H,D\\}$ represent the set of manufacturers. \n",
    "- Let your decision variables be $x_{ij}$, which is the amount shipped from plant $i \\in I$ to manufacturer $j \\in J$. (For example $x_{AO}$ is the amount shipped from Arlington to Onyx. $\\sum_{j\\in J} x_{Aj}$ is the total amount produced from Arlington. $\\sum_{i \\in I} x_{iO}$ is the total amount shipped to Onyx.)\n",
    "- For each plant $i \\in I$, the production cost is $p_i$ and the monthly capacity is $q_i$. (For example, $p_A=17$ and $q_A=800$.)\n",
    "- For each manufactuer $j \\in J$, the demand of motors per month is given by $d_j$. (For example, $d_O=300$, $d_T=500$.) \n",
    "- For each plant $i\\in I$ and each manufacturer $j\\in J$, the transportation cost from plant $i$ to manufactuer $j$ can be indexed by $c_{ij}$. (For example using the data from the table associated with the question, $c_{AO}=3$, $c_{BT}=4$.)\n",
    "\n",
    "To write a indexed variable in Latex, you can use `c_{ij}` for $c_{ij}$ (make sure to enclose it either in single dollar sign for in-line math or double-dollar sign for stand-alone math). To write summation, you can use the command `\\sum`, with underline and braces to indicate the set you are summing over. For example (double click the following expression to see the code), \n",
    "$$\\text{Total transportation cost} = \\sum_{i \\in I, j \\in J} c_{ij}x_{ij}.$$\n",
    "\n",
    "The above expression is equivalent to looping over both the set of plants $I$ and set of manufacturers $J$ and adding the term $c_{ij} x_{ij}$. \n",
    "\n",
    "The summation notation helps you express many constraints at once. For example you can write the capacity constraint at all three plants using the equation\n",
    "$$ \\text{Respecting capacity:  } \\sum_{j \\in J} x_{ij} \\le q_i \\text{ for every plant $i \\in I$}.$$\n",
    "\n",
    "The decision variables as well as the above constraints can be inputed into Gurobi using the following code.\n",
    "\n",
    "```python\n",
    "import gurobipy as grb\n",
    "import pandas as pd\n",
    "\n",
    "I=['Arlington','Binghamton','Canton']\n",
    "J=['Onyx','Treble','Hilton','Dean']\n",
    "\n",
    "mod=grb.Model()\n",
    "\n",
    "x={}\n",
    "for i in I:\n",
    "    for j in J:\n",
    "        x[i,j]=mod.addVar(lb=0,name='x[{0},{1}]'.format(i,j))\n",
    "\n",
    "q=pd.Series([800,600,700],index=I)\n",
    "        \n",
    "for i in I:\n",
    "    mod.addConstr(sum(x[i,j] for j in J) <= q.loc[i],name='Capacity for '+i)\n",
    "\n",
    "```\n",
    "Note the use of Python command `sum` for constructing summations $\\sum_{j \\in J} x_{ij}$. The command `q.loc[i]` accesses the value of pandas Series `q` corresponding to $i$. For example, `q.loc['Arlington']` is 800.\n",
    "\n",
    "**Write your formulation below using LaTex, then solve using Gurobi:**\n"
   ]
  },
  {
   "cell_type": "markdown",
   "metadata": {},
   "source": [
    "- $I=\\{A,B,C\\}$ represents the set of plants: Arlington, Birmingham, Canton\n",
    "- $J=\\{O,T,H,D\\}$ represent the set of manufacturers: Onyx, Treble, Hilton, Dean \n",
    "\n",
    "- $x_{ij}$ denotes the amount shipped from plant $i \\in I$ to manufacturer $j \\in J$\n",
    "- $p_i$ denotes the production cost for each plant $i \\in I$\n",
    "- $c_{ij}$ denotes the transportation cost from each plant $i \\in I$ to each manufacturer $j \\in J$\n",
    "\n",
    "- The Objective function is to <b>minimize</b>: $$\\sum_{i \\in I, j \\in J} (p_i+c_{ij})x_{ij}.$$\n",
    "\n",
    "- $q_i$ denotes the capacity for each plant $i \\in I$\n",
    "- Capacity Constraint: $$ \\sum_{j \\in J} x_{ij} \\le q_i \\text{ for every plant $i \\in I$} $$\n",
    "- $d_j$ denotes the demand for each manufacturer $j \\in J$\n",
    "- Demand Constraint: $$ \\sum_{i \\in I} x_{ij} \\ge d_j \\text{ for every manufacturer $j \\in J$} $$"
   ]
  },
  {
   "cell_type": "code",
   "execution_count": null,
   "metadata": {
    "collapsed": true
   },
   "outputs": [],
   "source": [
    "import gurobipy as grb\n",
    "import pandas as pd\n",
    "\n",
    "I=['Arlington','Binghamton','Canton']\n",
    "J=['Onyx','Treble','Hilton','Dean']\n",
    "\n",
    "mod=grb.Model()\n",
    "\n",
    "x={}\n",
    "for i in I:\n",
    "    for j in J:\n",
    "        x[i,j]=mod.addVar(lb=0,name='x[{0},{1}]'.format(i,j))\n",
    "        \n",
    "c=pd.DataFrame([[3,2,5,7],[6,4,8,3],[9,1,5,4]],index=I,columns=J) #transport cost\n",
    "p=pd.Series([17,20,24], index=I) #production cost\n",
    "\n",
    "mod.setObjective(sum((p.loc[i]+c.loc[i,j])*x[i,j] for i in I for j in J),sense=grb.GRB.MINIMIZE)\n",
    "\n",
    "q=pd.Series([800,600,700],index=I) #capcity contraint\n",
    "for i in I:\n",
    "    mod.addConstr(sum(x[i,j] for j in J) <= q.loc[i],name='Capacity for '+i)\n",
    "    \n",
    "d=pd.Series([300,500,400,600], index=J) #demand constraint\n",
    "for j in J:\n",
    "    mod.addConstr(sum(x[i,j] for i in I) >= d.loc[j],name='Demand for '+j)\n",
    "\n",
    "#solve\n",
    "mod.setParam('OutputFlag',False)   \n",
    "mod.optimize()\n",
    "\n",
    "print('Optimal objective: {0:.2f}'.format(mod.ObjVal))\n",
    "print('Optimal solution')\n",
    "for var in mod.getVars():\n",
    "    print('\\t{0}= {1:.2f}'.format(var.VarName,var.x))\n",
    "print('\\nShadow prices')\n",
    "for constr in mod.getConstrs():\n",
    "    print('\\t{0}: {1:.2f}'.format(constr.ConstrName,constr.PI))\n"
   ]
  }
 ],
 "metadata": {
  "kernelspec": {
   "display_name": "Python 3",
   "language": "python",
   "name": "python3"
  },
  "language_info": {
   "codemirror_mode": {
    "name": "ipython",
    "version": 3
   },
   "file_extension": ".py",
   "mimetype": "text/x-python",
   "name": "python",
   "nbconvert_exporter": "python",
   "pygments_lexer": "ipython3",
   "version": "3.6.1"
  }
 },
 "nbformat": 4,
 "nbformat_minor": 2
}
