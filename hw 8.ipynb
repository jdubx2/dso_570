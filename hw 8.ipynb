{
 "cells": [
  {
   "cell_type": "code",
   "execution_count": null,
   "metadata": {
    "collapsed": true
   },
   "outputs": [],
   "source": [
    "import gurobipy as grb\n",
    "\n",
    "I = sheet1.index\n",
    "J = range(n)\n",
    "K = sheet1.columns\n",
    "\n",
    "mod=grb.Model()\n",
    "\n",
    "X={}\n",
    "for i in I:\n",
    "    for j in J\n",
    "        X[i,j]=mod.addVar(vtype=grb.GRB.BINARY, name='x[{0},{1}]'.format(i,j))\n",
    "\n",
    "for i in I:\n",
    "    mod.addConstr(sum(X[i,j] for j in J) == 1)\n",
    "    \n",
    "S={}\n",
    "T={}\n",
    "for k in K:\n",
    "    S[k]=mod.addVar(lb=0)\n",
    "    T[k]=mod.addVar(lb=0)\n",
    "    \n",
    "for j in J:\n",
    "    for k in K:\n",
    "        scoreSum = sum(X[i,j]*sheet1.loc[i,j] for i in I)\n",
    "        mod.addConstr(sheet2.loc[\"L\",k]-S[k] <= scoreSum)\n",
    "        mod.addConstr(sheet2.loc[\"U\",k]+T[k] >= scoreSum)\n",
    "\n",
    "mod.setObjective(sum(sheet2.loc[\"Weights\",k]*(S[k]+T[k]) for k in K), sense=grb.GRB.MINIMIZE)\n",
    "\n",
    "mod.optimize()\n",
    "\n",
    "solutions = []\n",
    "for i,x in enumerate(X):\n",
    "    solutions.append((x[0], x[1], int(mod.getVars()[i].x)))\n",
    "    \n",
    "answer = pd.DataFrame(solutions, columns = ['Name','Team','Value']).query('Value == 1').drop(columns = 'Value')"
   ]
  },
  {
   "cell_type": "code",
   "execution_count": null,
   "metadata": {
    "collapsed": true
   },
   "outputs": [],
   "source": [
    "import gurobipy as grb\n",
    "\n",
    "I = data.index\n",
    "T = range(n)\n",
    "B = data.Balance\n",
    "R = data.iloc[:,2]\n",
    "\n",
    "mod=grb.Model()\n",
    "\n",
    "X={}\n",
    "Y={}\n",
    "for i in I:\n",
    "    for t in T:\n",
    "        X[i,t]=mod.addVar(lb=0, name='x[{0},{1}]'.format(i,t))\n",
    "        Y[i,t]=mod.addVar(lb=0, name='y[{0},{1}]'.format(i,t))\n",
    "        \n",
    "mod.setObjective(sum(X[i,t] for i in I for t in T) + sum(Y[i,n-1] for i in I), sense = grb.GRB.MINIMIZE)\n",
    "\n",
    "for t in T:\n",
    "    mod.addConstr(sum(X[i,t] for i in I) <= C)\n",
    "\n",
    "for i in I:\n",
    "    mod.adConstr(B[i]*(1+R[i])-X[i,0] == Y[i,0])\n",
    "\n",
    "for i in I:\n",
    "    for t in T:\n",
    "        if t != 0:\n",
    "            mod.addConstr(Y[i,t-1]*(1+r[i])-X[i] == Y[i,t])\n",
    "            \n",
    "mod.optimize()\n",
    "\n",
    "solutions = []\n",
    "for i,x in enumerate(X):\n",
    "    solutions.append((x[0], x[1], int(mod.getVars()[i].x)))\n",
    "    \n",
    "answer = pd.DataFrame(solutions, columns = ['Card','Month','Payment']).pivot_table(index = 'Month', columns='Card', value='Payment')"
   ]
  }
 ],
 "metadata": {
  "kernelspec": {
   "display_name": "Python 3",
   "language": "python",
   "name": "python3"
  },
  "language_info": {
   "codemirror_mode": {
    "name": "ipython",
    "version": 3
   },
   "file_extension": ".py",
   "mimetype": "text/x-python",
   "name": "python",
   "nbconvert_exporter": "python",
   "pygments_lexer": "ipython3",
   "version": "3.6.1"
  }
 },
 "nbformat": 4,
 "nbformat_minor": 2
}
