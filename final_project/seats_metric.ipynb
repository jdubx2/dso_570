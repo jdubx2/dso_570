{
 "cells": [
  {
   "cell_type": "code",
   "execution_count": 1,
   "metadata": {
    "collapsed": true
   },
   "outputs": [],
   "source": [
    "import os\n",
    "import numpy as np\n",
    "import pandas as pd"
   ]
  },
  {
   "cell_type": "code",
   "execution_count": 2,
   "metadata": {},
   "outputs": [
    {
     "data": {
      "text/plain": [
       "['.ipynb_checkpoints',\n",
       " 'Cancelled_Courses_1516_1617.xlsx',\n",
       " 'Department_Allocations_20171.xlsx',\n",
       " 'Description of Data.docx',\n",
       " 'Description of Project.docx',\n",
       " 'Marshall_Course_Enrollment_1516_1617.xlsx',\n",
       " 'Marshall_Room_Capacity_Chart.xlsx',\n",
       " 'seats_metric.ipynb',\n",
       " 'Student_Course_Selection_1516.xlsx',\n",
       " 'Summary_Special_Session_Codes_1516_1617.xlsx',\n",
       " '~$Marshall_Course_Enrollment_1516_1617.xlsx']"
      ]
     },
     "execution_count": 2,
     "metadata": {},
     "output_type": "execute_result"
    }
   ],
   "source": [
    "os.listdir()"
   ]
  },
  {
   "cell_type": "code",
   "execution_count": 110,
   "metadata": {},
   "outputs": [],
   "source": [
    "enroll = pd.read_excel('Marshall_Course_Enrollment_1516_1617.xlsx')\n",
    "capacities = pd.read_excel('Marshall_Room_Capacity_Chart.xlsx')"
   ]
  },
  {
   "cell_type": "code",
   "execution_count": 111,
   "metadata": {},
   "outputs": [
    {
     "data": {
      "text/html": [
       "<div>\n",
       "<style>\n",
       "    .dataframe thead tr:only-child th {\n",
       "        text-align: right;\n",
       "    }\n",
       "\n",
       "    .dataframe thead th {\n",
       "        text-align: left;\n",
       "    }\n",
       "\n",
       "    .dataframe tbody tr th {\n",
       "        vertical-align: top;\n",
       "    }\n",
       "</style>\n",
       "<table border=\"1\" class=\"dataframe\">\n",
       "  <thead>\n",
       "    <tr style=\"text-align: right;\">\n",
       "      <th></th>\n",
       "      <th>Room</th>\n",
       "      <th>Size</th>\n",
       "    </tr>\n",
       "  </thead>\n",
       "  <tbody>\n",
       "    <tr>\n",
       "      <th>0</th>\n",
       "      <td>ACC 306B</td>\n",
       "      <td>16</td>\n",
       "    </tr>\n",
       "    <tr>\n",
       "      <th>1</th>\n",
       "      <td>ACC201</td>\n",
       "      <td>48</td>\n",
       "    </tr>\n",
       "    <tr>\n",
       "      <th>2</th>\n",
       "      <td>ACC205</td>\n",
       "      <td>36</td>\n",
       "    </tr>\n",
       "    <tr>\n",
       "      <th>3</th>\n",
       "      <td>ACC236</td>\n",
       "      <td>39</td>\n",
       "    </tr>\n",
       "    <tr>\n",
       "      <th>4</th>\n",
       "      <td>ACC303</td>\n",
       "      <td>46</td>\n",
       "    </tr>\n",
       "  </tbody>\n",
       "</table>\n",
       "</div>"
      ],
      "text/plain": [
       "       Room  Size\n",
       "0  ACC 306B    16\n",
       "1    ACC201    48\n",
       "2    ACC205    36\n",
       "3    ACC236    39\n",
       "4    ACC303    46"
      ]
     },
     "execution_count": 111,
     "metadata": {},
     "output_type": "execute_result"
    }
   ],
   "source": [
    "capacities.head()"
   ]
  },
  {
   "cell_type": "code",
   "execution_count": 112,
   "metadata": {
    "collapsed": true
   },
   "outputs": [],
   "source": [
    "def convertTime(time):\n",
    "    try:\n",
    "        hh,mm,ss=time.split(':')\n",
    "        ans=int(hh)*60+int(mm)+int(ss)/60\n",
    "    except:\n",
    "        ans=np.nan\n",
    "    return ans"
   ]
  },
  {
   "cell_type": "code",
   "execution_count": 118,
   "metadata": {},
   "outputs": [],
   "source": [
    "primeDict = {}\n",
    "\n",
    "termSet = set(enroll.Term)\n",
    "roomSet = set(capacities.Room)\n",
    "dayList = ['M','T','W','H','F']\n",
    "primeTimes = [x for x in range(480,1321,5)]\n",
    "\n",
    "for term in termSet:\n",
    "    for room in roomSet:\n",
    "        for day in dayList:\n",
    "            for time in primeTimes:\n",
    "                key = (term,room,day,time)\n",
    "                primeDict[key] = 0"
   ]
  },
  {
   "cell_type": "code",
   "execution_count": 119,
   "metadata": {},
   "outputs": [],
   "source": [
    "for index,row in enroll.iterrows():\n",
    "    \n",
    "    term=row['Term']       \n",
    "    room=row['First Room']\n",
    "    days=row['First Days'] \n",
    "    reg=row['Reg Count']\n",
    "    beg=convertTime(str(row['First Begin Time']))\n",
    "    end=convertTime(str(row['First End Time']))\n",
    "    \n",
    "    if np.isnan(beg) or np.isnan(end) or room not in roomSet:  \n",
    "        continue \n",
    "        \n",
    "    for day in 'MTWHF':\n",
    "        if day in days:\n",
    "            for time in np.arange(beg,end+1,5):\n",
    "                if time in primeTimes:\n",
    "                    key = (term,room,day,time)\n",
    "                    primeDict[key] = reg"
   ]
  },
  {
   "cell_type": "code",
   "execution_count": 120,
   "metadata": {},
   "outputs": [],
   "source": [
    "lines = []\n",
    "for term,room,day,time in primeDict:\n",
    "    reg = primeDict[term,room,day,time]\n",
    "    lines.append([term,room,day,time,reg])\n",
    "output = pd.DataFrame(lines, columns = ['Term','Room','Day','Time','Registered'])\n",
    "\n",
    "output.to_csv('room_usage.csv')"
   ]
  },
  {
   "cell_type": "code",
   "execution_count": 121,
   "metadata": {},
   "outputs": [
    {
     "data": {
      "text/html": [
       "<div>\n",
       "<style>\n",
       "    .dataframe thead tr:only-child th {\n",
       "        text-align: right;\n",
       "    }\n",
       "\n",
       "    .dataframe thead th {\n",
       "        text-align: left;\n",
       "    }\n",
       "\n",
       "    .dataframe tbody tr th {\n",
       "        vertical-align: top;\n",
       "    }\n",
       "</style>\n",
       "<table border=\"1\" class=\"dataframe\">\n",
       "  <thead>\n",
       "    <tr style=\"text-align: right;\">\n",
       "      <th></th>\n",
       "      <th>Term</th>\n",
       "      <th>Room</th>\n",
       "      <th>Day</th>\n",
       "      <th>Time</th>\n",
       "      <th>Registered</th>\n",
       "      <th>Size</th>\n",
       "    </tr>\n",
       "  </thead>\n",
       "  <tbody>\n",
       "    <tr>\n",
       "      <th>0</th>\n",
       "      <td>20161</td>\n",
       "      <td>ACC310</td>\n",
       "      <td>M</td>\n",
       "      <td>480</td>\n",
       "      <td>40</td>\n",
       "      <td>54</td>\n",
       "    </tr>\n",
       "    <tr>\n",
       "      <th>1</th>\n",
       "      <td>20161</td>\n",
       "      <td>ACC310</td>\n",
       "      <td>M</td>\n",
       "      <td>485</td>\n",
       "      <td>40</td>\n",
       "      <td>54</td>\n",
       "    </tr>\n",
       "    <tr>\n",
       "      <th>2</th>\n",
       "      <td>20161</td>\n",
       "      <td>ACC310</td>\n",
       "      <td>M</td>\n",
       "      <td>490</td>\n",
       "      <td>40</td>\n",
       "      <td>54</td>\n",
       "    </tr>\n",
       "    <tr>\n",
       "      <th>3</th>\n",
       "      <td>20161</td>\n",
       "      <td>ACC310</td>\n",
       "      <td>M</td>\n",
       "      <td>495</td>\n",
       "      <td>40</td>\n",
       "      <td>54</td>\n",
       "    </tr>\n",
       "    <tr>\n",
       "      <th>4</th>\n",
       "      <td>20161</td>\n",
       "      <td>ACC310</td>\n",
       "      <td>M</td>\n",
       "      <td>500</td>\n",
       "      <td>40</td>\n",
       "      <td>54</td>\n",
       "    </tr>\n",
       "  </tbody>\n",
       "</table>\n",
       "</div>"
      ],
      "text/plain": [
       "    Term    Room Day  Time  Registered  Size\n",
       "0  20161  ACC310   M   480          40    54\n",
       "1  20161  ACC310   M   485          40    54\n",
       "2  20161  ACC310   M   490          40    54\n",
       "3  20161  ACC310   M   495          40    54\n",
       "4  20161  ACC310   M   500          40    54"
      ]
     },
     "execution_count": 121,
     "metadata": {},
     "output_type": "execute_result"
    }
   ],
   "source": [
    "joined = output.merge(capacities, on='Room', how = 'left')\n",
    "joined.head()"
   ]
  },
  {
   "cell_type": "code",
   "execution_count": 122,
   "metadata": {},
   "outputs": [
    {
     "data": {
      "text/html": [
       "<div>\n",
       "<style>\n",
       "    .dataframe thead tr:only-child th {\n",
       "        text-align: right;\n",
       "    }\n",
       "\n",
       "    .dataframe thead th {\n",
       "        text-align: left;\n",
       "    }\n",
       "\n",
       "    .dataframe tbody tr th {\n",
       "        vertical-align: top;\n",
       "    }\n",
       "</style>\n",
       "<table border=\"1\" class=\"dataframe\">\n",
       "  <thead>\n",
       "    <tr style=\"text-align: right;\">\n",
       "      <th>Day</th>\n",
       "      <th>M</th>\n",
       "      <th>T</th>\n",
       "      <th>W</th>\n",
       "      <th>H</th>\n",
       "      <th>F</th>\n",
       "    </tr>\n",
       "    <tr>\n",
       "      <th>Term</th>\n",
       "      <th></th>\n",
       "      <th></th>\n",
       "      <th></th>\n",
       "      <th></th>\n",
       "      <th></th>\n",
       "    </tr>\n",
       "  </thead>\n",
       "  <tbody>\n",
       "    <tr>\n",
       "      <th>20153</th>\n",
       "      <td>0.32</td>\n",
       "      <td>0.29</td>\n",
       "      <td>0.31</td>\n",
       "      <td>0.27</td>\n",
       "      <td>0.11</td>\n",
       "    </tr>\n",
       "    <tr>\n",
       "      <th>20161</th>\n",
       "      <td>0.29</td>\n",
       "      <td>0.27</td>\n",
       "      <td>0.29</td>\n",
       "      <td>0.26</td>\n",
       "      <td>0.07</td>\n",
       "    </tr>\n",
       "    <tr>\n",
       "      <th>20162</th>\n",
       "      <td>0.07</td>\n",
       "      <td>0.07</td>\n",
       "      <td>0.07</td>\n",
       "      <td>0.07</td>\n",
       "      <td>0.03</td>\n",
       "    </tr>\n",
       "    <tr>\n",
       "      <th>20163</th>\n",
       "      <td>0.42</td>\n",
       "      <td>0.44</td>\n",
       "      <td>0.42</td>\n",
       "      <td>0.43</td>\n",
       "      <td>0.08</td>\n",
       "    </tr>\n",
       "    <tr>\n",
       "      <th>20171</th>\n",
       "      <td>0.41</td>\n",
       "      <td>0.42</td>\n",
       "      <td>0.44</td>\n",
       "      <td>0.40</td>\n",
       "      <td>0.10</td>\n",
       "    </tr>\n",
       "    <tr>\n",
       "      <th>20172</th>\n",
       "      <td>0.08</td>\n",
       "      <td>0.07</td>\n",
       "      <td>0.08</td>\n",
       "      <td>0.07</td>\n",
       "      <td>0.01</td>\n",
       "    </tr>\n",
       "  </tbody>\n",
       "</table>\n",
       "</div>"
      ],
      "text/plain": [
       "Day       M     T     W     H     F\n",
       "Term                               \n",
       "20153  0.32  0.29  0.31  0.27  0.11\n",
       "20161  0.29  0.27  0.29  0.26  0.07\n",
       "20162  0.07  0.07  0.07  0.07  0.03\n",
       "20163  0.42  0.44  0.42  0.43  0.08\n",
       "20171  0.41  0.42  0.44  0.40  0.10\n",
       "20172  0.08  0.07  0.08  0.07  0.01"
      ]
     },
     "execution_count": 122,
     "metadata": {},
     "output_type": "execute_result"
    }
   ],
   "source": [
    "utils = joined.groupby(['Term','Day'])['Registered','Size'].sum() \\\n",
    "    .apply(lambda row: pd.Series({'Prime Util' : round(row.Registered / row.Size,2)}), axis = 1) \\\n",
    "    .reset_index()\n",
    "    \n",
    "utils['Day'] = pd.Categorical(utils['Day'], categories=['M','T','W','H','F'],ordered=True)\n",
    "    \n",
    "utils.pivot_table(index='Term', columns = 'Day', values = 'Prime Util')"
   ]
  }
 ],
 "metadata": {
  "kernelspec": {
   "display_name": "Python 3",
   "language": "python",
   "name": "python3"
  },
  "language_info": {
   "codemirror_mode": {
    "name": "ipython",
    "version": 3
   },
   "file_extension": ".py",
   "mimetype": "text/x-python",
   "name": "python",
   "nbconvert_exporter": "python",
   "pygments_lexer": "ipython3",
   "version": "3.6.1"
  }
 },
 "nbformat": 4,
 "nbformat_minor": 2
}
