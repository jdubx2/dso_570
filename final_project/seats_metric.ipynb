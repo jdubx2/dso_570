{
 "cells": [
  {
   "cell_type": "code",
   "execution_count": 1,
   "metadata": {
    "collapsed": true
   },
   "outputs": [],
   "source": [
    "import os\n",
    "import numpy as np\n",
    "import pandas as pd\n",
    "\n",
    "os.chdir(r'C:\\Users\\WEISJ059\\Documents\\Repos\\dso_570\\final_project')"
   ]
  },
  {
   "cell_type": "code",
   "execution_count": 3,
   "metadata": {},
   "outputs": [
    {
     "data": {
      "text/plain": [
       "['Cancelled_Courses_1516_1617.xlsx',\n",
       " 'Department_Allocations_20171.xlsx',\n",
       " 'Description of Data.docx',\n",
       " 'Description of Project.docx',\n",
       " 'Marshall_Course_Enrollment_1516_1617.xlsx',\n",
       " 'Marshall_Room_Capacity_Chart.xlsx',\n",
       " 'Student_Course_Selection_1516.xlsx',\n",
       " 'Summary_Special_Session_Codes_1516_1617.xlsx']"
      ]
     },
     "execution_count": 3,
     "metadata": {},
     "output_type": "execute_result"
    }
   ],
   "source": [
    "os.listdir()"
   ]
  },
  {
   "cell_type": "code",
   "execution_count": null,
   "metadata": {
    "collapsed": true
   },
   "outputs": [],
   "source": [
    "enroll <- pd.read_excel('Marshall_Course_Enrollment_1516_1617.xlsx')"
   ]
  }
 ],
 "metadata": {
  "kernelspec": {
   "display_name": "Python 3",
   "language": "python",
   "name": "python3"
  },
  "language_info": {
   "codemirror_mode": {
    "name": "ipython",
    "version": 3
   },
   "file_extension": ".py",
   "mimetype": "text/x-python",
   "name": "python",
   "nbconvert_exporter": "python",
   "pygments_lexer": "ipython3",
   "version": "3.6.1"
  }
 },
 "nbformat": 4,
 "nbformat_minor": 2
}
